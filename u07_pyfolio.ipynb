{
 "cells": [
  {
   "cell_type": "markdown",
   "metadata": {},
   "source": [
    "# 0050 測試"
   ]
  },
  {
   "cell_type": "code",
   "execution_count": null,
   "metadata": {},
   "outputs": [],
   "source": [
    "# 移除不必要的警告\n",
    "import warnings\n",
    "warnings.filterwarnings('ignore')\n",
    "\n",
    "# 獲取0050收盤價資料\n",
    "from finlab.data import Data\n",
    "data = Data()\n",
    "close = data.get_adj(\"收盤價\")\n",
    "\n",
    "# 將收盤假日期調整，這樣子等等使用pyfolio才不會有問題\n",
    "close.index = close.index.tz_localize(\"Asia/Taipei\")\n",
    "\n",
    "# 每天報酬率繪圖\n",
    "%matplotlib inline\n",
    "close['0050'].pct_change().plot()"
   ]
  },
  {
   "cell_type": "markdown",
   "metadata": {},
   "source": [
    "# 使用 Pyfolio 觀察個股報酬率"
   ]
  },
  {
   "cell_type": "code",
   "execution_count": null,
   "metadata": {},
   "outputs": [],
   "source": [
    "import pyfolio as pf\n",
    "\n",
    "pf.create_returns_tear_sheet(close['0050'].pct_change())"
   ]
  },
  {
   "cell_type": "code",
   "execution_count": null,
   "metadata": {},
   "outputs": [],
   "source": [
    "import pickle\n",
    "import pandas as pd\n",
    "\n",
    "# 得到 上一個單元的 回測結果\n",
    "ret = pickle.load(open(\"return_history.pkl\", \"rb\"))\n",
    "\n",
    "# 將回測報酬率取出來\n",
    "ret = ret.pct_change().dropna()\n",
    "ret.index = pd.to_datetime(ret.index).tz_localize('Asia/Taipei')\n",
    "\n",
    "# 利用pyfolio 比較報酬率\n",
    "pf.create_returns_tear_sheet(ret, benchmark_rets=close['0050'].pct_change())"
   ]
  },
  {
   "cell_type": "code",
   "execution_count": null,
   "metadata": {},
   "outputs": [],
   "source": []
  }
 ],
 "metadata": {
  "kernelspec": {
   "display_name": "finlab_test",
   "language": "python",
   "name": "finlab_test"
  },
  "language_info": {
   "codemirror_mode": {
    "name": "ipython",
    "version": 3
   },
   "file_extension": ".py",
   "mimetype": "text/x-python",
   "name": "python",
   "nbconvert_exporter": "python",
   "pygments_lexer": "ipython3",
   "version": "3.7.10"
  }
 },
 "nbformat": 4,
 "nbformat_minor": 4
}
