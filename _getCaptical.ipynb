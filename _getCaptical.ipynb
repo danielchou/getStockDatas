{
 "cells": [
  {
   "cell_type": "code",
   "execution_count": 2,
   "metadata": {},
   "outputs": [],
   "source": [
    "import pandas as pd\n",
    "import numpy as np\n",
    "import datetime\n",
    "from finlab.data import Data\n",
    "from datetime import date,timedelta\n",
    "import math\n",
    "from talib import abstract\n",
    "import _beowSet as bs          #自己寫的\n",
    "import _beowFmt as fm \n",
    "\n",
    "data = Data()\n",
    "df = data.get(\"股本合計\")\n",
    "df = df.loc[df.index.max()].dropna()\n",
    "dff = pd.DataFrame({\"cap\": df}, index = df.index)\n",
    "\n",
    "dff[\"cap\"]      = (dff[\"cap\"]/100000).round(2)\n",
    "dff[\"stockId\"]  = dff.index\n",
    "dff[\"sql\"]      = dff.apply(fm.fmtSql_capital, axis=1)\n",
    "# print(dff)\n",
    "sql_capital = \";\".join(dff[\"sql\"].tolist())\n",
    "bs.InsertIntoMSSQL2017(sql_capital)"
   ]
  },
  {
   "cell_type": "code",
   "execution_count": 26,
   "metadata": {},
   "outputs": [
    {
     "name": "stdout",
     "output_type": "stream",
     "text": [
      "11\n"
     ]
    }
   ],
   "source": [
    "# print(\"SSSS\")\n",
    "bin(93)\n",
    "print(int('1011',2))\n"
   ]
  }
 ],
 "metadata": {
  "interpreter": {
   "hash": "a9bafc8cd24229b4ed50022592ed7fa1331576c297d461e177bb4ab5e0c18a94"
  },
  "kernelspec": {
   "display_name": "Python 3.7.9 64-bit (windows store)",
   "language": "python",
   "name": "python3"
  },
  "language_info": {
   "codemirror_mode": {
    "name": "ipython",
    "version": 3
   },
   "file_extension": ".py",
   "mimetype": "text/x-python",
   "name": "python",
   "nbconvert_exporter": "python",
   "pygments_lexer": "ipython3",
   "version": "3.7.11"
  },
  "orig_nbformat": 4
 },
 "nbformat": 4,
 "nbformat_minor": 2
}
