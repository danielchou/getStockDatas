{
 "cells": [
  {
   "cell_type": "markdown",
   "metadata": {},
   "source": [
    "# 參數優化 - 將歷史報酬提升數倍的方式！"
   ]
  },
  {
   "cell_type": "markdown",
   "metadata": {},
   "source": [
    "這個單元中，我們首先要來撰寫一個獲利的策略\n",
    "\n",
    "寫一個策略，首先要來將我們之前爬到的數據拿出來\n",
    "\n",
    "## 拿出歷史大盤數據"
   ]
  },
  {
   "cell_type": "code",
   "execution_count": null,
   "metadata": {},
   "outputs": [],
   "source": [
    "from finlab.data import Data\n",
    "\n",
    "data = Data()\n",
    "twii = data.get('發行量加權股價指數')\n",
    "twii = twii[(twii.index.second == 0)]['台股指數']"
   ]
  },
  {
   "cell_type": "code",
   "execution_count": null,
   "metadata": {},
   "outputs": [],
   "source": [
    "import matplotlib.pyplot as plt\n",
    "plt.style.use(\"ggplot\")\n",
    "\n",
    "%matplotlib inline\n",
    "\n",
    "twii.plot()"
   ]
  },
  {
   "cell_type": "code",
   "execution_count": null,
   "metadata": {},
   "outputs": [],
   "source": [
    "sma = twii.rolling(500).mean()\n",
    "bias = twii / sma\n",
    "ub =1+ bias.rolling(1000).std() * 2\n",
    "lb = 1 - bias.rolling(1000).std() * 2\n",
    "\n",
    "import matplotlib.pyplot as plt\n",
    "\n",
    "plt.plot(bias['2008-03'].values)\n",
    "plt.plot(ub['2008-03'].values)\n",
    "plt.plot(lb['2008-03'].values)\n",
    "plt.show()\n",
    "plt.plot(twii['2008-03'].values)"
   ]
  },
  {
   "cell_type": "markdown",
   "metadata": {},
   "source": [
    "## 乖離率策略"
   ]
  },
  {
   "cell_type": "code",
   "execution_count": null,
   "metadata": {},
   "outputs": [],
   "source": [
    "import numpy as np\n",
    "import pandas as pd\n",
    "%matplotlib inline\n",
    "\n",
    "def strategy(m1=500, m2=1000, m3=1, m4=1, draw_plot=False):\n",
    "    \n",
    "    \n",
    "    sma = twii.rolling(m1).mean()\n",
    "\n",
    "    bias = (twii / sma)\n",
    "    ub = 1 + bias.rolling(m2).std() * m3\n",
    "    lb = 1 - bias.rolling(m2).std() * m4\n",
    "    \n",
    "    buy = (bias < lb) \n",
    "    sell = (bias > ub)\n",
    "\n",
    "    hold = pd.Series(np.nan, index=sell.index)\n",
    "    hold[buy] = 0\n",
    "    hold[sell] = 1\n",
    "    hold = hold.ffill()\n",
    "\n",
    "    returns = twii.shift(-2) - twii.shift(-1)\n",
    "    \n",
    "    \n",
    "    \n",
    "    returns[hold == 0] = 0\n",
    "    returns -= hold.diff().abs() * 3\n",
    "\n",
    "    creturn = returns.cumsum()\n",
    "    \n",
    "    \n",
    "    \n",
    "    if draw_plot:\n",
    "        (hold*1000).plot()\n",
    "        creturn.plot()\n",
    "    \n",
    "     \n",
    "    return creturn.dropna()[-1]\n",
    "\n",
    "    \n",
    "strategy(draw_plot=True)"
   ]
  },
  {
   "cell_type": "markdown",
   "metadata": {},
   "source": [
    "## 乖離率優化"
   ]
  },
  {
   "cell_type": "code",
   "execution_count": null,
   "metadata": {},
   "outputs": [],
   "source": [
    "vmax = 0\n",
    "for m1 in range(500, 2000, 200):\n",
    "    for m2 in range(400, 800, 20):\n",
    "        v = strategy(m1, m2, 1, 1)\n",
    "        if v > vmax:\n",
    "            vmax = v\n",
    "            print(vmax, m1, m2, 1, 1)"
   ]
  },
  {
   "cell_type": "markdown",
   "metadata": {},
   "source": [
    "## 繪製出歷史報酬"
   ]
  },
  {
   "cell_type": "code",
   "execution_count": null,
   "metadata": {},
   "outputs": [],
   "source": [
    "strategy(1300, 780, 1, 1, draw_plot=True)"
   ]
  }
 ],
 "metadata": {
  "kernelspec": {
   "display_name": "finlab_test",
   "language": "python",
   "name": "finlab_test"
  },
  "language_info": {
   "codemirror_mode": {
    "name": "ipython",
    "version": 3
   },
   "file_extension": ".py",
   "mimetype": "text/x-python",
   "name": "python",
   "nbconvert_exporter": "python",
   "pygments_lexer": "ipython3",
   "version": "3.7.10"
  }
 },
 "nbformat": 4,
 "nbformat_minor": 4
}
