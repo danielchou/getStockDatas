{
 "cells": [
  {
   "cell_type": "code",
   "execution_count": 22,
   "metadata": {},
   "outputs": [
    {
     "name": "stdout",
     "output_type": "stream",
     "text": [
      "                                                    0                                                  1                                                  2                                                  3                                                  4                                                  5                                                  6\n",
      "0   上市週轉率排行 上櫃週轉率排行  <!-- function MarketChange(In...  上市週轉率排行 上櫃週轉率排行  <!-- function MarketChange(In...  上市週轉率排行 上櫃週轉率排行  <!-- function MarketChange(In...  上市週轉率排行 上櫃週轉率排行  <!-- function MarketChange(In...  上市週轉率排行 上櫃週轉率排行  <!-- function MarketChange(In...  上市週轉率排行 上櫃週轉率排行  <!-- function MarketChange(In...  上市週轉率排行 上櫃週轉率排行  <!-- function MarketChange(In...\n",
      "1                                                  名次                                               股票名稱                                                收盤價                                                 漲跌                                                漲跌幅                                                成交量                                                週轉率\n",
      "2                                                   1                                            6243 迅杰                                              70.40                                              -0.30                                             -0.42%                                              17713                                             48.77%\n",
      "3                                                   2                                            2406 國碩                                              30.40                                             + 2.75                                             +9.95%                                              88670                                             31.01%\n",
      "4                                                   3                                            6226 光鼎                                              16.00                                              -0.25                                             -1.54%                                              27068                                             23.55%\n",
      "5                                                   4                                            6443 元晶                                              42.90                                             + 1.70                                             +4.13%                                              96344                                             21.61%\n",
      "6                                                   5                                           3059 華晶科                                              44.25                                             + 3.00                                             +7.27%                                              47071                                             16.85%\n",
      "7                                                   6                                            8104 錸寶                                              70.10                                             + 1.10                                             +1.59%                                              11449                                             16.84%\n",
      "8                                                   7                                            3419 譁裕                                              30.00                                             + 1.90                                             +6.76%                                              17986                                             14.93%\n",
      "9                                                   8                                            2482 連宇                                              16.90                                              -1.10                                             -6.11%                                               8896                                             14.33%\n",
      "10                                                  9                                            1732 毛寶                                              31.90                                             + 2.90                                            +10.00%                                               5888                                             13.87%\n",
      "11                                                 10                                            3051 力特                                              16.35                                             + 1.45                                             +9.73%                                              36564                                             13.68%\n",
      "12                                                 11                                           3046 建��                                              43.70                                             + 3.95                                             +9.94%                                               4007                                             11.47%\n",
      "13                                                 12                                            2405 浩鑫                                              16.95                                             + 1.50                                             +9.71%                                              35242                                             10.26%\n",
      "14                                                 13                                            6477 安集                                              45.00                                             + 0.95                                             +2.16%                                              11375                                              9.96%\n",
      "15                                                 14                                           8215 明基材                                              39.55                                             + 0.95                                             +2.46%                                              30535                                              9.52%\n",
      "16                                                 15                                            6196 帆宣                                             160.50                                               0.00                                              0.00%                                              16595                                              8.86%\n",
      "17                                                 16                                            2610 華航                                              28.70                                              -0.65                                             -2.21%                                             499171                                              8.80%\n",
      "18                                                 17                                            2465 麗臺                                              71.40                                             + 0.40                                             +0.56%                                               4708                                              8.79%\n",
      "19                                                 18                                            2457 飛宏                                              38.45                                             + 0.15                                             +0.39%                                              28256                                              8.37%\n",
      "20                                                 19                                            3380 明泰                                              33.80                                             + 1.60                                             +4.97%                                              32196                                              7.29%\n",
      "21                                                 20                                           2618 長榮航                                              29.30                                              -0.80                                             -2.66%                                             371182                                              7.23%\n",
      "22                                                 21                                            6251 定穎                                              23.80                                             + 0.95                                             +4.16%                                              20056                                              7.23%\n",
      "23                                                 22                                            2338 光罩                                             107.00                                              -0.50                                             -0.47%                                              17635                                              6.98%\n",
      "24                                                 23                                            6235 華孚                                              32.45                                             + 2.95                                            +10.00%                                              11786                                              6.87%\n",
      "25                                                 24                                            3016 嘉晶                                             137.00                                              -5.50                                             -3.86%                                              18703                                              6.62%\n",
      "26                                                 25                                            1721 三晃                                              28.60                                              -0.60                                             -2.05%                                              12483                                              6.60%\n",
      "27                                                 26                                            2342 茂矽                                              48.35                                              -1.85                                             -3.69%                                              10293                                              6.59%\n",
      "28                                                 27                                            2371 大同                                              30.45                                              -2.40                                             -7.31%                                             153900                                              6.58%\n",
      "29                                                 28                                            6120 達運                                              14.15                                             + 1.25                                             +9.69%                                              43668                                              6.56%\n",
      "30                                                 29                                           5608 四維航                                              48.15                                              -2.85                                             -5.59%                                              21224                                              6.45%\n",
      "31                                                 30                                           2498 宏達電                                              80.70                                              -0.60                                             -0.74%                                              49218                                              6.01%\n",
      "32                                                 31                                            1708 東鹼                                              36.60                                             + 1.80                                             +5.17%                                              14880                                              5.98%\n",
      "33                                                 32                                           2436 偉詮電                                              90.90                                              -3.10                                             -3.30%                                              10228                                              5.75%\n",
      "34                                                 33                                            6282 康舒                                              36.00                                             + 2.00                                             +5.88%                                              29702                                              5.75%\n",
      "35                                                 34                                            6792 詠業                                             215.50                                              -0.50                                             -0.23%                                               2708                                              5.66%\n",
      "36                                                 35                                            3035 智原                                             187.50                                              -1.00                                             -0.53%                                              13569                                              5.46%\n",
      "37                                                 36                                            4906 正文                                              29.20                                              -0.30                                             -1.02%                                              19529                                              5.38%\n",
      "38                                                 37                                           4133 亞諾法                                              41.25                                             + 1.40                                             +3.51%                                               3169                                              5.23%\n",
      "39                                                 38                                           3701 大眾控                                              90.00                                              -0.30                                             -0.33%                                               9863                                              5.18%\n",
      "40                                                 39                                     00715L期街口布蘭特正2                                               9.26                                              -0.56                                             -5.70%                                              50978                                              5.15%\n",
      "41                                                 40                                           9919 康那香                                              25.45                                             + 0.85                                             +3.46%                                               9793                                              5.01%\n",
      "42                                                 41                                       00650LFH香港正2                                              21.48                                              -0.24                                             -1.10%                                               1455                                              4.96%\n",
      "43                                                 42                                            3583 辛耘                                              82.80                                             + 4.10                                             +5.21%                                               3963                                              4.88%\n",
      "44                                                 43                                            3346 麗清                                              46.00                                             + 1.25                                             +2.79%                                               4664                                              4.83%\n",
      "45                                                 44                                   00673R期元大S＆P原油反1                                              14.29                                             + 0.44                                             +3.18%                                               2164                                              4.79%\n",
      "46                                                 45                                            2489 瑞軒                                              17.20                                              -1.20                                             -6.52%                                              36156                                              4.76%\n",
      "47                                                 46                                            1611 中電                                              18.75                                              -0.25                                             -1.32%                                              15045                                              4.66%\n",
      "48                                                 47                                            2376 技嘉                                             152.50                                             + 4.50                                             +3.04%                                              29643                                              4.66%\n",
      "49                                                 48                                            1529 樂士                                              20.90                                              -1.40                                             -6.28%                                               6313                                              4.64%\n",
      "50                                                 49                                           4755 三福化                                             105.00                                             + 4.00                                             +3.96%                                               4384                                              4.35%\n",
      "51                                                 50                                           3704 合勤控                                              34.35                                             + 1.35                                             +4.09%                                              19179                                              4.27%\n"
     ]
    }
   ],
   "source": [
    "import datetime\n",
    "import requests\n",
    "import pandas as pd\n",
    "import pickle\n",
    "import time\n",
    "import urllib\n",
    "import os\n",
    "from io import StringIO\n",
    "import numpy as np\n",
    "import warnings\n",
    "import os\n",
    "import datetime\n",
    "import time\n",
    "from tqdm import tnrange, tqdm_notebook\n",
    "from requests.exceptions import ConnectionError\n",
    "from requests.exceptions import ReadTimeout\n",
    "import ipywidgets as widgets\n",
    "import pip\n",
    "import pandas\n",
    "import gc\n",
    "import shutil\n",
    "\n",
    "pd.set_option('display.expand_frame_repr', False) #別折行\n",
    "\n",
    "# res = requests.get(\"https://github.com/pandas-dev/pandas/blob/master/doc/data/titanic.csv\")\n",
    "res = requests.get(\"https://fubon-ebrokerdj.fbs.com.tw/Z/ZG/ZG_BD.djhtm\")\n",
    "# res.encoding = 'utf-8'\n",
    "# res = requests.get(\"https://histock.tw/stock/2357/每股盈餘\")\n",
    "dfs = pd.read_html(StringIO(res.text))\n",
    "df =dfs[2]\n",
    "print(df)"
   ]
  }
 ],
 "metadata": {
  "interpreter": {
   "hash": "7950a5dd1f714d14609edaf528a8b9eed8b014827db83eed17aa655bc35f9e90"
  },
  "kernelspec": {
   "display_name": "Python 3.7.11 64-bit ('finlab': conda)",
   "language": "python",
   "name": "python3"
  },
  "language_info": {
   "codemirror_mode": {
    "name": "ipython",
    "version": 3
   },
   "file_extension": ".py",
   "mimetype": "text/x-python",
   "name": "python",
   "nbconvert_exporter": "python",
   "pygments_lexer": "ipython3",
   "version": "3.7.11"
  },
  "orig_nbformat": 4
 },
 "nbformat": 4,
 "nbformat_minor": 2
}
