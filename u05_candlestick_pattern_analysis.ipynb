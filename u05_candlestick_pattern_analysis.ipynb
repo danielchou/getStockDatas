{
 "cells": [
  {
   "cell_type": "markdown",
   "metadata": {},
   "source": [
    "# K線型態哪種最有用？"
   ]
  },
  {
   "cell_type": "markdown",
   "metadata": {},
   "source": [
    "## 取得價格資料、計算獲利"
   ]
  },
  {
   "cell_type": "code",
   "execution_count": null,
   "metadata": {},
   "outputs": [],
   "source": [
    "from finlab.data import Data\n",
    "\n",
    "data = Data()\n",
    "open_adj = data.get_adj('開盤價')\n",
    "\n",
    "profit1 =  open_adj.shift(-2) / open_adj.shift(-1)\n",
    "profit5 =  open_adj.shift(-6) / open_adj.shift(-1)\n",
    "profit10 = open_adj.shift(-11) / open_adj.shift(-1)\n",
    "profit60 = open_adj.shift(-61) / open_adj.shift(-1)\n",
    "\n",
    "profit1 = profit1.unstack()\n",
    "profit5 = profit5.unstack()\n",
    "profit10 = profit10.unstack()\n",
    "profit60 = profit60.unstack()"
   ]
  },
  {
   "cell_type": "markdown",
   "metadata": {},
   "source": [
    "## 計算K線型態"
   ]
  },
  {
   "cell_type": "code",
   "execution_count": null,
   "metadata": {},
   "outputs": [],
   "source": [
    "df = data.talib('CDL2CROWS')\n",
    "df = df.unstack()\n",
    "\n",
    "profit10[df < 0].mean()"
   ]
  },
  {
   "cell_type": "markdown",
   "metadata": {},
   "source": [
    "## 計算每一種K線型態的獲利"
   ]
  },
  {
   "cell_type": "code",
   "execution_count": null,
   "metadata": {},
   "outputs": [],
   "source": [
    "results = {}\n",
    "counts = {}\n",
    "from talib import abstract\n",
    "\n",
    "for fname in [fname for fname in dir(abstract) if fname[:3] == 'CDL']:\n",
    "    df = data.talib(fname)\n",
    "    df = df.unstack()\n",
    "    pos = df > 0\n",
    "    neg = df < 0\n",
    "    \n",
    "    results['NEG_' + fname] = {\n",
    "        'profit1': profit1 [neg].mean(),\n",
    "        'profit5': profit5 [neg].mean(),\n",
    "        'profit10':profit10[neg].mean(),\n",
    "        'profit60':profit60[neg].mean(),\n",
    "        'count': sum(neg),\n",
    "    }\n",
    "    results['POS_' + fname] = {\n",
    "        'profit1': profit1 [pos].mean(),\n",
    "        'profit5': profit5 [pos].mean(),\n",
    "        'profit10':profit10[pos].mean(),\n",
    "        'profit60':profit60[pos].mean(),\n",
    "        'count': sum(pos),\n",
    "    }\n",
    "    print(fname)\n",
    "    "
   ]
  },
  {
   "cell_type": "markdown",
   "metadata": {},
   "source": [
    "## 哪一種蠟燭型態最好？"
   ]
  },
  {
   "cell_type": "code",
   "execution_count": null,
   "metadata": {},
   "outputs": [],
   "source": [
    "import pandas as pd\n",
    "import matplotlib.pyplot as plt\n",
    "plt.style.use(\"ggplot\")\n",
    "%matplotlib inline\n",
    "plt.rcParams['figure.figsize'] = (15,9)\n",
    "\n",
    "df_result = pd.DataFrame(results).transpose()\n",
    "\n",
    "profit_names = ['profit1', 'profit5', 'profit10', 'profit60']\n",
    "df = pd.DataFrame({name:df_result[name] for name in profit_names}).dropna()\n",
    "df.sort_values('profit10')"
   ]
  },
  {
   "cell_type": "markdown",
   "metadata": {},
   "source": [
    "## 蠟燭型態歷史資料繪製"
   ]
  },
  {
   "cell_type": "code",
   "execution_count": null,
   "metadata": {},
   "outputs": [],
   "source": [
    "# 開高低收成交量\n",
    "high = data.get(\"最高價\")\n",
    "low = data.get(\"最低價\")\n",
    "open_ = data.get(\"開盤價\")\n",
    "close = data.get(\"收盤價\")\n",
    "volume = data.get(\"成交股數\")\n",
    "\n",
    "# 找到蠟燭型態\n",
    "df = data.talib(\"CDLTRISTAR\")\n",
    "signals = (df > 0) & (volume.rolling(10).mean() > 100000)\n",
    "signals = signals.unstack()\n",
    "signals = signals[signals > 0]\n",
    "signals.index = signals.index.set_names(['stock_id', 'date'])\n",
    "signals = signals.reset_index()"
   ]
  },
  {
   "cell_type": "code",
   "execution_count": null,
   "metadata": {},
   "outputs": [],
   "source": [
    "\n",
    "ind = 6\n",
    "stock_id = signals['stock_id'].iloc[ind]\n",
    "date = signals['date'].iloc[ind]\n",
    "\n",
    "import matplotlib.pyplot as plt\n",
    "\n",
    "o = open_[stock_id].loc[:date].tail(10)\n",
    "h = high[stock_id].loc[:date].tail(10)\n",
    "l = low[stock_id].loc[:date].tail(10)\n",
    "c = close[stock_id].loc[:date].tail(10)\n",
    "v = volume[stock_id].loc[:date].tail(10)\n",
    "\n",
    "df = pd.DataFrame({'open':o, 'high':h, 'close':c, 'low':l, 'volume':v}).dropna(how='all')\n",
    "\n",
    "from finlab.plot_candles import plot_candles\n",
    "plot_candles(start_time=o.index[0], end_time=o.index[-1], pricing=df,)\n",
    "\n",
    "df"
   ]
  },
  {
   "cell_type": "code",
   "execution_count": null,
   "metadata": {},
   "outputs": [],
   "source": []
  }
 ],
 "metadata": {
  "kernelspec": {
   "display_name": "finlab_test",
   "language": "python",
   "name": "finlab_test"
  },
  "language_info": {
   "codemirror_mode": {
    "name": "ipython",
    "version": 3
   },
   "file_extension": ".py",
   "mimetype": "text/x-python",
   "name": "python",
   "nbconvert_exporter": "python",
   "pygments_lexer": "ipython3",
   "version": "3.7.10"
  }
 },
 "nbformat": 4,
 "nbformat_minor": 4
}
