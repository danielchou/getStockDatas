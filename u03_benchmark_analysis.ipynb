{
 "cells": [
  {
   "cell_type": "markdown",
   "metadata": {},
   "source": [
    "### 讀取大盤資料"
   ]
  },
  {
   "cell_type": "code",
   "execution_count": null,
   "metadata": {},
   "outputs": [],
   "source": [
    "from finlab.data import Data\n",
    "\n",
    "data = Data()\n",
    "\n",
    "twii = data.get(\"發行量加權股價指數\")\n",
    "\n",
    "twii = twii['台股指數']\n",
    "\n",
    "twii.head()"
   ]
  },
  {
   "cell_type": "markdown",
   "metadata": {},
   "source": [
    "### 整理加權指數 1分k"
   ]
  },
  {
   "cell_type": "code",
   "execution_count": null,
   "metadata": {},
   "outputs": [],
   "source": [
    "\n",
    "twii = twii[twii.index.second == 0]"
   ]
  },
  {
   "cell_type": "markdown",
   "metadata": {},
   "source": [
    "### 畫的更美一點"
   ]
  },
  {
   "cell_type": "code",
   "execution_count": null,
   "metadata": {},
   "outputs": [],
   "source": [
    "import matplotlib.pyplot as plt\n",
    "plt.style.use\n",
    "%matplotlib inline\n",
    "twii.hist()"
   ]
  },
  {
   "cell_type": "markdown",
   "metadata": {},
   "source": [
    "### DataFrame 小教室：groupby"
   ]
  },
  {
   "cell_type": "code",
   "execution_count": null,
   "metadata": {},
   "outputs": [],
   "source": [
    "import pandas as pd\n",
    "\n",
    "s = pd.Series([1,2,3,4,5,6])\n",
    "s.groupby([0,1,0,1,0,1]).prod()"
   ]
  },
  {
   "cell_type": "code",
   "execution_count": null,
   "metadata": {},
   "outputs": [],
   "source": [
    "df = pd.DataFrame({'a':s, 'b':s})\n",
    "df\n",
    "df.groupby([1,2,1,2,1,2]).prod()"
   ]
  },
  {
   "cell_type": "code",
   "execution_count": null,
   "metadata": {},
   "outputs": [],
   "source": [
    "twii.head()"
   ]
  },
  {
   "cell_type": "markdown",
   "metadata": {},
   "source": [
    "### 每月漲跌"
   ]
  },
  {
   "cell_type": "code",
   "execution_count": null,
   "metadata": {},
   "outputs": [],
   "source": [
    "start_price = twii.groupby([twii.index.year, twii.index.month]).first()\n",
    "last_price = twii.groupby([twii.index.year, twii.index.month]).last()\n",
    "profit = (last_price/start_price)\n",
    "\n",
    "# pandas <1.0.3\n",
    "# profit.index.levels[0].name = 'year'\n",
    "# profit.index.levels[1].name = 'month'\n",
    "\n",
    "# pandas 1.0.3\n",
    "profit.index=profit.index.set_names(['year','month'], level=[0,1])\n",
    "profit = profit.reset_index()\n",
    "profit = profit.pivot(\"year\",\"month\")#['台股指數']\n",
    "profit\n",
    "#profit"
   ]
  },
  {
   "cell_type": "markdown",
   "metadata": {},
   "source": [
    "### 每月漲跌色溫圖"
   ]
  },
  {
   "cell_type": "code",
   "execution_count": null,
   "metadata": {},
   "outputs": [],
   "source": [
    "import seaborn as sns\n",
    "import matplotlib.pyplot as plt\n",
    "\n",
    "plt.rcParams['figure.figsize'] = (10, 10)\n",
    "\n",
    "sns.heatmap(profit)"
   ]
  },
  {
   "cell_type": "markdown",
   "metadata": {},
   "source": [
    "### 均線分析"
   ]
  },
  {
   "cell_type": "code",
   "execution_count": null,
   "metadata": {},
   "outputs": [],
   "source": [
    "# 每日開盤價\n",
    "twii_daily = twii.groupby(twii.index.date).last()\n",
    "twii_daily.index = pd.to_datetime(twii_daily.index)\n",
    "\n",
    "# 60日平均\n",
    "twii_average = twii_daily.rolling(60).mean()\n",
    "\n",
    "# 乖離率\n",
    "twii_bias = twii_daily / twii_average\n",
    "\n",
    "# 後60日漲跌\n",
    "twii_profit = twii_daily.shift(-60) / twii_daily\n",
    "\n",
    "# 將資料合併（方便之後做圖）\n",
    "df = pd.DataFrame({\n",
    "    'price': twii_daily,\n",
    "    'sma': twii_average,\n",
    "    'bias': twii_bias,\n",
    "    'profit': twii_profit,\n",
    "    'year': twii_daily.index.year,\n",
    "})\n",
    "\n",
    "# 刪除NaN\n",
    "df = df.dropna(how='any')\n",
    "df.head()"
   ]
  },
  {
   "cell_type": "markdown",
   "metadata": {},
   "source": [
    "### 乖離率做圖"
   ]
  },
  {
   "cell_type": "code",
   "execution_count": null,
   "metadata": {},
   "outputs": [],
   "source": [
    "sns.scatterplot(x=\"bias\", y=\"profit\", data=df.tail(200), hue=\"year\", palette=\"Accent\", legend=\"full\")"
   ]
  },
  {
   "cell_type": "markdown",
   "metadata": {},
   "source": [
    "### 查看當前的乖離率"
   ]
  },
  {
   "cell_type": "code",
   "execution_count": null,
   "metadata": {},
   "outputs": [],
   "source": [
    "twii_bias.tail()"
   ]
  },
  {
   "cell_type": "code",
   "execution_count": null,
   "metadata": {},
   "outputs": [],
   "source": []
  }
 ],
 "metadata": {
  "kernelspec": {
   "display_name": "Python 3",
   "language": "python",
   "name": "python3"
  },
  "language_info": {
   "codemirror_mode": {
    "name": "ipython",
    "version": 3
   },
   "file_extension": ".py",
   "mimetype": "text/x-python",
   "name": "python",
   "nbconvert_exporter": "python",
   "pygments_lexer": "ipython3",
   "version": "3.7.9"
  }
 },
 "nbformat": 4,
 "nbformat_minor": 4
}
