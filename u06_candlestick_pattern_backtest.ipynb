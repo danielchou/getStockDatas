{
 "cells": [
  {
   "cell_type": "markdown",
   "metadata": {},
   "source": [
    "# 蠟燭線回測\n",
    "### 初始資料拿取"
   ]
  },
  {
   "cell_type": "code",
   "execution_count": null,
   "metadata": {},
   "outputs": [],
   "source": [
    "import numpy as np\n",
    "import pandas as pd\n",
    "from talib import abstract\n",
    "from finlab.data import Data\n",
    "\n",
    "%matplotlib inline\n",
    "\n",
    "data = Data()\n",
    "\n",
    "signal = data.talib('CDLTRISTAR')\n",
    "\n",
    "close = data.get_adj('收盤價')\n",
    "open_ = data.get_adj('開盤價')"
   ]
  },
  {
   "cell_type": "markdown",
   "metadata": {},
   "source": [
    "### 計算買入時間"
   ]
  },
  {
   "cell_type": "code",
   "execution_count": null,
   "metadata": {},
   "outputs": [],
   "source": [
    "sids = close.columns[:10]\n",
    "\n",
    "signal = signal[sids]\n",
    "close = close[sids]\n",
    "open_ = open_[sids]"
   ]
  },
  {
   "cell_type": "code",
   "execution_count": null,
   "metadata": {},
   "outputs": [],
   "source": [
    "buy = (signal > 0)\n",
    "sell = close < close.rolling(20).mean()\n",
    "    \n",
    "hold = pd.DataFrame(np.nan, index=close.index, columns=close.columns)\n",
    "hold[buy] = 1\n",
    "hold[sell] = 0\n",
    "hold.ffill(inplace=True)\n",
    "hold.fillna(0, inplace=True)\n",
    "hold = hold.shift()\n",
    "\n",
    "import matplotlib.pyplot as plt\n",
    "plt.style.use('ggplot')\n",
    "plt.rcParams['figure.figsize'] = (10, 6)\n",
    "hold.plot()"
   ]
  },
  {
   "cell_type": "markdown",
   "metadata": {},
   "source": [
    "### 計算報酬率"
   ]
  },
  {
   "cell_type": "code",
   "execution_count": null,
   "metadata": {},
   "outputs": [],
   "source": [
    "import matplotlib.pyplot as plt\n",
    "\n",
    "gain = open_.shift(-1).ffill()[sids] / open_.ffill()[sids]\n",
    "eq = (gain[hold == 1].mean(axis=1)).fillna(1).cumprod()\n",
    "\n",
    "draw_df = hold.copy()\n",
    "draw_df['eq'] = eq\n",
    "\n",
    "draw_df.plot()"
   ]
  },
  {
   "cell_type": "markdown",
   "metadata": {},
   "source": [
    "### 不要每天都rebalance"
   ]
  },
  {
   "cell_type": "code",
   "execution_count": null,
   "metadata": {},
   "outputs": [],
   "source": [
    "rebalance = (hold.diff().abs().sum(axis=1) != 0).cumsum()\n",
    "rebalance_hold = hold[rebalance.diff() != 0]\n",
    "rebalance_gain = gain.groupby(rebalance.values).apply(lambda s:s.cumprod().iloc[-1])\n",
    "rebalance_gain.index = rebalance_hold.index\n",
    "\n",
    "# 手續費\n",
    "position_diff = rebalance_hold.div(rebalance_hold.sum(axis=1), axis=0).fillna(0).diff()\n",
    "tax_ratio = position_diff.copy()\n",
    "tax_ratio[tax_ratio < 0] *= (1.425/1000 + 3/1000)\n",
    "tax_ratio[tax_ratio > 0] *= (1.425/1000)\n",
    "tax_ratio = tax_ratio.abs().sum(axis=1)\n",
    "\n",
    "\n",
    "eq2 = (rebalance_gain[rebalance_hold == 1].mean(axis=1).fillna(1) * (1 - tax_ratio)).cumprod()\n",
    "eq2.plot()\n",
    "eq2.iloc[-1]"
   ]
  },
  {
   "cell_type": "markdown",
   "metadata": {},
   "source": [
    "## 考慮手續費"
   ]
  },
  {
   "cell_type": "code",
   "execution_count": null,
   "metadata": {},
   "outputs": [],
   "source": [
    "import pickle\n",
    "pickle.dump(eq, open('return_history.pkl', 'wb'))"
   ]
  }
 ],
 "metadata": {
  "kernelspec": {
   "display_name": "Python 3 (ipykernel)",
   "language": "python",
   "name": "python3"
  },
  "language_info": {
   "codemirror_mode": {
    "name": "ipython",
    "version": 3
   },
   "file_extension": ".py",
   "mimetype": "text/x-python",
   "name": "python",
   "nbconvert_exporter": "python",
   "pygments_lexer": "ipython3",
   "version": "3.8.10"
  }
 },
 "nbformat": 4,
 "nbformat_minor": 4
}
