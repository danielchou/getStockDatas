{
 "cells": [
  {
   "cell_type": "markdown",
   "metadata": {},
   "source": [
    "# Convolutional Neural Network"
   ]
  },
  {
   "cell_type": "code",
   "execution_count": null,
   "metadata": {},
   "outputs": [],
   "source": [
    "import pandas as pd\n",
    "from finlab.data import Data\n",
    "data = Data()\n",
    "twii = data.get(\"發行量加權股價指數\")\n",
    "twii = twii['台股指數']\n",
    "twii = twii.resample('15T').first().dropna()"
   ]
  },
  {
   "cell_type": "markdown",
   "metadata": {},
   "source": [
    "## 製作features"
   ]
  },
  {
   "cell_type": "code",
   "execution_count": null,
   "metadata": {},
   "outputs": [],
   "source": [
    "import numpy as np\n",
    "import tqdm\n",
    "time_period = 200\n",
    "\n",
    "cnn_x = []\n",
    "cnn_y = []\n",
    "indexs = []\n",
    "for i in tqdm.tqdm_notebook(range(0, len(twii) - time_period - 1 - 11, 3)):\n",
    "    s = twii.iloc[i:i+time_period].values\n",
    "    cnn_x.append((s - s.min())/(s.max() - s.min()))\n",
    "    r = twii.iloc[i+time_period+10] / twii.iloc[i+time_period-1]\n",
    "    cnn_y.append(r)\n",
    "    indexs.append(twii.index[i+time_period-1])\n",
    "\n",
    "cnn_x = np.array(cnn_x)\n",
    "cnn_y = np.array(cnn_y)\n",
    "indexes = np.array(indexs)\n",
    "\n",
    "\n"
   ]
  },
  {
   "cell_type": "markdown",
   "metadata": {},
   "source": [
    "## Reshape features and labels"
   ]
  },
  {
   "cell_type": "code",
   "execution_count": null,
   "metadata": {},
   "outputs": [],
   "source": [
    "cnn_x = cnn_x.reshape(len(cnn_x), time_period, 1)\n",
    "cnn_y = cnn_y.reshape(len(cnn_y), 1)"
   ]
  },
  {
   "cell_type": "markdown",
   "metadata": {},
   "source": [
    "## Split traning and testing data"
   ]
  },
  {
   "cell_type": "code",
   "execution_count": null,
   "metadata": {},
   "outputs": [],
   "source": [
    "import datetime\n",
    "cnn_x_train = cnn_x[indexes < datetime.datetime(2016,1,1)]\n",
    "cnn_y_train = cnn_y[indexes < datetime.datetime(2016,1,1)]"
   ]
  },
  {
   "cell_type": "code",
   "execution_count": null,
   "metadata": {},
   "outputs": [],
   "source": [
    "import matplotlib.pyplot as plt\n",
    "%matplotlib inline\n",
    "plt.plot(cnn_x[0].reshape(1, len(cnn_x[0]))[0])\n"
   ]
  },
  {
   "cell_type": "markdown",
   "metadata": {},
   "source": [
    "## CNN"
   ]
  },
  {
   "cell_type": "code",
   "execution_count": null,
   "metadata": {
    "scrolled": true,
    "tags": []
   },
   "outputs": [],
   "source": [
    "from tensorflow import keras\n",
    "from tensorflow.keras import layers\n",
    "\n",
    "input_shape = cnn_x[0].shape\n",
    "time_period = 200\n",
    "num_classes = 1\n",
    "\n",
    "model = keras.Sequential()\n",
    "\n",
    "model.add(layers.Conv1D(filters=20, kernel_size=20, activation='relu', input_shape=cnn_x[0].shape))\n",
    "model.add(layers.AveragePooling1D(5))\n",
    "\n",
    "model.add(layers.Conv1D(filters=20, kernel_size=20, activation='relu'))\n",
    "model.add(layers.AveragePooling1D(5))\n",
    "model.add(layers.Flatten())\n",
    "model.add(layers.Dense(units=120, activation='relu'))\n",
    "model.add(layers.Dense(units=84, activation='relu'))\n",
    "model.add(layers.Dense(units=1, ))#activation = 'softmax'))\n",
    "\n",
    "adam = keras.optimizers.Adam(lr=0.0005, beta_1=0.9, beta_2=0.99, epsilon=None, decay=0.01, amsgrad=False)\n",
    "\n",
    "model.compile(loss='mse',\n",
    "                optimizer=adam)\n",
    "\n",
    "print(model.summary())\n",
    "\n",
    "history = model.fit(cnn_x_train, cnn_y_train,\n",
    "                    batch_size=200,\n",
    "                    epochs=50,\n",
    "                    verbose=1,\n",
    "                    validation_split=0.1, )\n"
   ]
  },
  {
   "cell_type": "code",
   "execution_count": null,
   "metadata": {},
   "outputs": [],
   "source": [
    "import matplotlib.pyplot as plt\n",
    "%matplotlib inline\n",
    "plt.plot(np.log(history.history['loss'][1:]))\n",
    "plt.plot(np.log(history.history['val_loss']))"
   ]
  },
  {
   "cell_type": "code",
   "execution_count": null,
   "metadata": {},
   "outputs": [],
   "source": [
    "ey = model.predict(cnn_x)\n",
    "ey = pd.Series(ey.swapaxes(0, 1)[0], index=indexes)"
   ]
  },
  {
   "cell_type": "code",
   "execution_count": null,
   "metadata": {},
   "outputs": [],
   "source": [
    "\n",
    "eq = twii[pd.to_datetime(indexes)]\n",
    "gain = (eq.shift(-1) - eq)\n",
    "\n",
    "signal = (ey > ey.quantile(0.9)).rolling(20).sum() > 0\n",
    "eq = (gain[signal])['2016':].cumsum()\n",
    "eq.plot()"
   ]
  },
  {
   "cell_type": "code",
   "execution_count": null,
   "metadata": {},
   "outputs": [],
   "source": [
    "signal['2016':].astype(int).diff().abs().sum()"
   ]
  }
 ],
 "metadata": {
  "kernelspec": {
   "display_name": "Python 3 (ipykernel)",
   "language": "python",
   "name": "python3"
  },
  "language_info": {
   "codemirror_mode": {
    "name": "ipython",
    "version": 3
   },
   "file_extension": ".py",
   "mimetype": "text/x-python",
   "name": "python",
   "nbconvert_exporter": "python",
   "pygments_lexer": "ipython3",
   "version": "3.8.10"
  }
 },
 "nbformat": 4,
 "nbformat_minor": 4
}
