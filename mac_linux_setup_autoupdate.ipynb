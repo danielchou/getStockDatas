{
 "cells": [
  {
   "cell_type": "markdown",
   "metadata": {},
   "source": [
    "# 操作說明\n",
    "\n",
    "\n",
    "crontab 是一個時間排程工具，可以設定它在每天下午五點執行更新功能，可以使用下列步驟來完成\n",
    "\n",
    "1. 在第一個 cell 中第七行填寫 email 地址（這樣每日更新才會寄送報表給你）\n",
    "2. 執行下面第一個 cell，\n",
    "3. 修改 new_crontab.txt （不懂crontab 的可以跳過）\n",
    "4. 執行下面第二個 cell\n",
    "5. 使用Mac會有授權的視窗跳出來，按下「確定」即可\n",
    "6. 每天下午 5 點電腦記得開機"
   ]
  },
  {
   "cell_type": "code",
   "execution_count": 8,
   "metadata": {},
   "outputs": [
    {
     "name": "stdout",
     "output_type": "stream",
     "text": [
      "home:    /Users/cheng-yuhan\n",
      "course:  /Users/cheng-yuhan/Documents/finlab_course2019/finlab_course_ml\n",
      "python:  /Users/cheng-yuhan/miniconda3/bin/python\n",
      "----------- new crontab -----------\n",
      "MAILTO=xxx@gmail.com\n",
      "01 17 * * * cd /Users/cheng-yuhan/Documents/finlab_course2019/finlab_course_ml;conda activate finlab;/Users/cheng-yuhan/miniconda3/bin/python /Users/cheng-yuhan/Documents/finlab_course2019/finlab_course_ml/auto_update.py\n",
      "--------------- end ---------------\n"
     ]
    }
   ],
   "source": [
    "import os\n",
    "import sys\n",
    "\n",
    "\n",
    "\"\"\"\n",
    "記得填寫下方的email，才能用 email 收到每日更新的結果喔！\n",
    "\"\"\"\n",
    "email = 'xxx@gmail.com'\n",
    "\"\"\"\n",
    "記得填寫上方的email，才能用 email 收到每日更新的結果喔！\n",
    "\"\"\"\n",
    "\n",
    "# 找出課程位置\n",
    "course_path = os.getcwd()\n",
    "\n",
    "# 找到 python 執行檔位置\n",
    "python_path = (sys.executable)\n",
    "\n",
    "# 找到 home 位置\n",
    "home_path = os.environ['HOME']\n",
    "\n",
    "print(\"home:   \", home_path)\n",
    "print(\"course: \", course_path)\n",
    "print(\"python: \", python_path)\n",
    "\n",
    "# 得到當前 crontab\n",
    "# crontab 教學： http://linux.vbird.org/linux_basic/0430cron.php\n",
    "\n",
    "os.system('crontab -l > current_crontab.txt');\n",
    "lines = [l.replace(\"\\n\", \"\") for l in open('current_crontab.txt', 'r').readlines()]\n",
    "\n",
    "\n",
    "# 新增 email 地址\n",
    "if email != \"xxx@gmail\":\n",
    "    lines.append(\"MAILTO=\\\"\" + email + \"\\\"\")\n",
    "    \n",
    "# 新增一條指令\n",
    "command = \"cd \" + course_path + \";\" + \\\n",
    "          \"conda activate finlab;\" + \\\n",
    "          python_path + \" \" + os.path.join(course_path, \"auto_update.py\")\n",
    "lines.append(\"01 17 * * * \" + command)\n",
    "\n",
    "# 寫入檔案\n",
    "open(\"new_crontab.txt\", \"w\").write(\"\\n\".join(lines))\n",
    "\n",
    "# 將 crontab 內容顯示出來 \n",
    "print(\"----------- new crontab -----------\")\n",
    "print(\"\\n\".join(lines))\n",
    "print(\"--------------- end ---------------\")"
   ]
  },
  {
   "cell_type": "code",
   "execution_count": 10,
   "metadata": {},
   "outputs": [
    {
     "data": {
      "text/plain": [
       "0"
      ]
     },
     "execution_count": 10,
     "metadata": {},
     "output_type": "execute_result"
    }
   ],
   "source": [
    "#  \n",
    "\n",
    "os.system(\"crontab new_crontab.txt\")\n",
    "os.system(\"rm new_crontab.txt\")\n",
    "os.system(\"rm current_crontab.txt\")"
   ]
  }
 ],
 "metadata": {
  "kernelspec": {
   "display_name": "finlab",
   "language": "python",
   "name": "finlab"
  },
  "language_info": {
   "codemirror_mode": {
    "name": "ipython",
    "version": 3
   },
   "file_extension": ".py",
   "mimetype": "text/x-python",
   "name": "python",
   "nbconvert_exporter": "python",
   "pygments_lexer": "ipython3",
   "version": "3.6.8"
  }
 },
 "nbformat": 4,
 "nbformat_minor": 2
}
