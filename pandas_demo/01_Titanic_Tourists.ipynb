{
 "cells": [
  {
   "cell_type": "code",
   "execution_count": 1,
   "metadata": {},
   "outputs": [
    {
     "data": {
      "text/plain": [
       "3    491\n",
       "1    216\n",
       "2    184\n",
       "Name: Pclass, dtype: int64"
      ]
     },
     "execution_count": 1,
     "metadata": {},
     "output_type": "execute_result"
    }
   ],
   "source": [
    "import datetime\n",
    "import requests\n",
    "import pandas as pd\n",
    "from io import StringIO\n",
    "import pandas\n",
    "pd.set_option('display.expand_frame_repr', False)  # 別折行\n",
    "\n",
    "res = requests.get(\n",
    "    \"https://github.com/pandas-dev/pandas/blob/master/doc/data/titanic.csv\")\n",
    "# res = requests.get(\"https://histock.tw/stock/2357/每股盈餘\")\n",
    "dfs = pd.read_html(StringIO(res.text))\n",
    "\n",
    "titanic = dfs[0]\n",
    "\n",
    "# 查找單行資料\n",
    "ages = titanic[\"Age\"]\n",
    "# 萃取出subtable\n",
    "age_sex = titanic[[\"Age\", \"Sex\"]]\n",
    "\n",
    "# 年紀大於35歲以上的旅客，Shape是用來查看有多少欄位 多少筆資料。\n",
    "above_35 = titanic[\"Age\"] > 35\n",
    "above_35 = titanic[titanic[\"Age\"] > 35]\n",
    "above_35 = above_35[[\"Age\", \"Sex\"]]\n",
    "above_35.shape\n",
    "\n",
    "# 找出包廂2與3的乘客\n",
    "class_23 = titanic[(titanic[\"Pclass\"] == 2) | (titanic[\"Pclass\"] == 3)]\n",
    "class_23.head(20)\n",
    "\n",
    "# 找出有填寫年紀的乘客。\n",
    "age_no_na = titanic[titanic[\"Age\"].notna()]\n",
    "age_no_na.head(10)\n",
    "age_no_na.shape\n",
    "\n",
    "# 找出年紀大於35歲的乘客。\n",
    "adults_names = titanic.loc[titanic[\"Age\"] > 35, \"Name\"]\n",
    "adults_names.head(30)\n",
    "\n",
    "# 用iloc指定欄列資料..\n",
    "titanic.iloc[12:33, 3:5]\n",
    "\n",
    "# 改變指定某列資料\n",
    "titanic.iloc[4:8, 5] = \"隱藏姓名\"\n",
    "titanic.head(10)\n",
    "\n",
    "### ===========================================================================================\n",
    "# 平均值計算\n",
    "titanic[\"Age\"].mean()\n",
    "\n",
    "# 中位數計算：對於年紀與票價。\n",
    "titanic[[\"Age\", \"Fare\"]].median()\n",
    "\n",
    "# aggregation \n",
    "titanic.agg(\n",
    "    {\n",
    "        \"Age\": [\"min\", \"max\", \"median\", \"skew\"],\n",
    "        \"Fare\": [\"min\", \"max\", \"median\", \"mean\"],\n",
    "    }\n",
    ")\n",
    "\n",
    "# 針對某欄位統計運算\n",
    "#  The groupby method is used to support this type of operations. \n",
    "#  More general, this fits in the more general \"split-apply-combine\" pattern: Split the data into groups\n",
    "#  Apply a function to each group independently Combine the results into a data structure\n",
    "titanic[[\"Sex\", \"Age\"]].mean()                          #只會算出不區分男女的\n",
    "titanic[[\"Sex\", \"Age\"]].groupby(\"Sex\").mean()           #先選擇欄位，\n",
    "titanic.groupby(\"Sex\").mean()                           #區分男女之後 作所有欄位的統計\n",
    "titanic.groupby(\"Sex\")[\"Age\"].mean()\n",
    "titanic.groupby([\"Sex\", \"Pclass\"])[\"Fare\"].mean()       #不同男女的各艙位等級的票價。\n",
    "\n",
    "# 統計筆數\n",
    "titanic[\"Pclass\"].dropna().value_counts()                        #簡潔寫法，不會排序\n",
    "# titanic.groupby(\"Pclass\")[\"Pclass\"].count()             #正統寫法\n"
   ]
  }
 ],
 "metadata": {
  "interpreter": {
   "hash": "7950a5dd1f714d14609edaf528a8b9eed8b014827db83eed17aa655bc35f9e90"
  },
  "kernelspec": {
   "display_name": "Python 3.7.11 64-bit ('finlab': conda)",
   "language": "python",
   "name": "python3"
  },
  "language_info": {
   "codemirror_mode": {
    "name": "ipython",
    "version": 3
   },
   "file_extension": ".py",
   "mimetype": "text/x-python",
   "name": "python",
   "nbconvert_exporter": "python",
   "pygments_lexer": "ipython3",
   "version": "3.7.11"
  },
  "orig_nbformat": 4
 },
 "nbformat": 4,
 "nbformat_minor": 2
}
