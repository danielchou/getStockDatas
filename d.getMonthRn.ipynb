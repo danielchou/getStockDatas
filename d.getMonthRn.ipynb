{
 "cells": [
  {
   "cell_type": "code",
   "execution_count": 35,
   "metadata": {},
   "outputs": [
    {
     "name": "stdout",
     "output_type": "stream",
     "text": [
      "2022-03-15 00:00:00\n",
      "date\n",
      "2022-03-11    3.42\n",
      "2022-03-14    3.30\n",
      "2022-03-15    3.25\n",
      "Name: 9907, dtype: float64\n"
     ]
    }
   ],
   "source": [
    "import pandas as pd\n",
    "import numpy as np\n",
    "# import datetime\n",
    "import _beowSet as bs\n",
    "\n",
    "from finlab.data import Data\n",
    "# from datetime import date,timedelta\n",
    "import math\n",
    "from talib import abstract\n",
    "\n",
    "\n",
    "data = Data()\n",
    "df = pd.read_pickle(\"history/items/pe/殖利率(%).pkl\")\n",
    "# pp = price.tail(1)\n",
    "# pp = pp.index.levels[0]\n",
    "# df = data.get(\"收盤價\")\n",
    "\n",
    "from datetime import datetime\n",
    "\n",
    "dt = datetime.strptime(\"2022-03-15\", \"%Y-%m-%d\")\n",
    "print(dt)\n",
    "pp = data.get(\"殖利率(%)\").tail(3)\n",
    "pr = data.get(\"現金股利\").tail(3)\n",
    "print(pp[\"9907\"])\n",
    "# print(df[df[stock_id==\"2636\"]])"
   ]
  }
 ],
 "metadata": {
  "interpreter": {
   "hash": "7950a5dd1f714d14609edaf528a8b9eed8b014827db83eed17aa655bc35f9e90"
  },
  "kernelspec": {
   "display_name": "Python 3.7.11 ('finlab')",
   "language": "python",
   "name": "python3"
  },
  "language_info": {
   "codemirror_mode": {
    "name": "ipython",
    "version": 3
   },
   "file_extension": ".py",
   "mimetype": "text/x-python",
   "name": "python",
   "nbconvert_exporter": "python",
   "pygments_lexer": "ipython3",
   "version": "3.7.11"
  },
  "orig_nbformat": 4
 },
 "nbformat": 4,
 "nbformat_minor": 2
}
